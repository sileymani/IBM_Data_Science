{
 "cells": [
  {
   "cell_type": "code",
   "execution_count": 1,
   "metadata": {},
   "outputs": [],
   "source": [
    "import sqlite3\n",
    "\n",
    "conn = sqlite3.connect(\"pets.db\")"
   ]
  },
  {
   "cell_type": "code",
   "execution_count": 2,
   "metadata": {},
   "outputs": [],
   "source": [
    "%load_ext sql"
   ]
  },
  {
   "cell_type": "code",
   "execution_count": 3,
   "metadata": {},
   "outputs": [],
   "source": [
    "%sql sqlite:///pets.db"
   ]
  },
  {
   "cell_type": "code",
   "execution_count": 4,
   "metadata": {},
   "outputs": [
    {
     "name": "stdout",
     "output_type": "stream",
     "text": [
      " * sqlite:///pets.db\n",
      "Done.\n",
      "Done.\n",
      "5 rows affected.\n",
      "Done.\n"
     ]
    },
    {
     "data": {
      "text/html": [
       "<table>\n",
       "    <thead>\n",
       "        <tr>\n",
       "            <th>ID</th>\n",
       "            <th>ANIMAL</th>\n",
       "            <th>SALEPRICE</th>\n",
       "            <th>SALEDATE</th>\n",
       "            <th>QUANTITY</th>\n",
       "        </tr>\n",
       "    </thead>\n",
       "    <tbody>\n",
       "        <tr>\n",
       "            <td>1</td>\n",
       "            <td>Cat</td>\n",
       "            <td>450.09</td>\n",
       "            <td>2018-05-29</td>\n",
       "            <td>9</td>\n",
       "        </tr>\n",
       "        <tr>\n",
       "            <td>2</td>\n",
       "            <td>Dog</td>\n",
       "            <td>666.66</td>\n",
       "            <td>2018-06-01</td>\n",
       "            <td>3</td>\n",
       "        </tr>\n",
       "        <tr>\n",
       "            <td>3</td>\n",
       "            <td>Parrot</td>\n",
       "            <td>50</td>\n",
       "            <td>2018-06-04</td>\n",
       "            <td>2</td>\n",
       "        </tr>\n",
       "        <tr>\n",
       "            <td>4</td>\n",
       "            <td>Hamster</td>\n",
       "            <td>60.6</td>\n",
       "            <td>2018-06-11</td>\n",
       "            <td>6</td>\n",
       "        </tr>\n",
       "        <tr>\n",
       "            <td>5</td>\n",
       "            <td>Goldfish</td>\n",
       "            <td>48.48</td>\n",
       "            <td>2018-06-14</td>\n",
       "            <td>24</td>\n",
       "        </tr>\n",
       "    </tbody>\n",
       "</table>"
      ],
      "text/plain": [
       "[(1, 'Cat', 450.09, '2018-05-29', 9),\n",
       " (2, 'Dog', 666.66, '2018-06-01', 3),\n",
       " (3, 'Parrot', 50, '2018-06-04', 2),\n",
       " (4, 'Hamster', 60.6, '2018-06-11', 6),\n",
       " (5, 'Goldfish', 48.48, '2018-06-14', 24)]"
      ]
     },
     "execution_count": 4,
     "metadata": {},
     "output_type": "execute_result"
    }
   ],
   "source": [
    "%%sql\n",
    "\n",
    "DROP TABLE IF EXISTS PETSALE;\n",
    "\n",
    "\n",
    "\n",
    "CREATE TABLE PETSALE (\n",
    "\tID INTEGER NOT NULL,\n",
    "\tANIMAL VARCHAR(20),\n",
    "\tSALEPRICE DECIMAL(6,2),\n",
    "\tSALEDATE DATE,\n",
    "\tQUANTITY INTEGER,\n",
    "\tPRIMARY KEY (ID)\n",
    "\t);\n",
    "\n",
    "\n",
    "INSERT INTO PETSALE VALUES\n",
    "(1,'Cat',450.09,'2018-05-29',9),\n",
    "(2,'Dog',666.66,'2018-06-01',3),\n",
    "(3,'Parrot',50.00,'2018-06-04',2),\n",
    "(4,'Hamster',60.60,'2018-06-11',6),\n",
    "(5,'Goldfish',48.48,'2018-06-14',24);\n",
    "\n",
    "\n",
    "\n",
    "SELECT * FROM PETSALE;\n",
    "\n"
   ]
  },
  {
   "cell_type": "code",
   "execution_count": 12,
   "metadata": {},
   "outputs": [
    {
     "name": "stdout",
     "output_type": "stream",
     "text": [
      " * sqlite:///pets.db\n",
      "(sqlite3.OperationalError) near \"procedure\": syntax error\n",
      "[SQL: create procedure RETRIEVE_ALL() as\n",
      "BEGIN\n",
      "   SELECT *  FROM PETSALE;\n",
      "END;]\n",
      "(Background on this error at: https://sqlalche.me/e/20/e3q8)\n"
     ]
    }
   ],
   "source": [
    "%%sql\n",
    "create procedure RETRIEVE_ALL() as\n",
    "BEGIN\n",
    "   SELECT *  FROM PETSALE;\n",
    "END;"
   ]
  },
  {
   "cell_type": "markdown",
   "metadata": {},
   "source": [
    "No stored procedures in sqlite3 and flemme d'utiliser postgres"
   ]
  },
  {
   "cell_type": "code",
   "execution_count": null,
   "metadata": {},
   "outputs": [],
   "source": []
  }
 ],
 "metadata": {
  "kernelspec": {
   "display_name": "Python 3",
   "language": "python",
   "name": "python3"
  },
  "language_info": {
   "codemirror_mode": {
    "name": "ipython",
    "version": 3
   },
   "file_extension": ".py",
   "mimetype": "text/x-python",
   "name": "python",
   "nbconvert_exporter": "python",
   "pygments_lexer": "ipython3",
   "version": "3.11.0"
  }
 },
 "nbformat": 4,
 "nbformat_minor": 2
}
